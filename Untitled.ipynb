{
 "cells": [
  {
   "cell_type": "code",
   "execution_count": 44,
   "metadata": {},
   "outputs": [
    {
     "name": "stdout",
     "output_type": "stream",
     "text": [
      "1810\n",
      "[[ 610  854]\n",
      " [ 854 1220]]\n"
     ]
    }
   ],
   "source": [
    "import numpy as py\n",
    "\n",
    "X = py.array([[1,2],[3,4]])\n",
    "B = py.array([5,6])\n",
    "\n",
    "# print X\n",
    "# print B\n",
    "print py.matmul(py.matmul(py.matmul(B.transpose(),X.transpose()),X),B)\n",
    "print py.matmul(py.matmul(B.transpose(),B.transpose())* X.transpose(),X)\n",
    "# print B.transpose()*X.transpose()*X*B\n",
    "# print B.transpose()*B.transpose()*X.transpose()*X\n",
    "\n"
   ]
  },
  {
   "cell_type": "code",
   "execution_count": null,
   "metadata": {},
   "outputs": [],
   "source": []
  },
  {
   "cell_type": "code",
   "execution_count": null,
   "metadata": {},
   "outputs": [],
   "source": []
  }
 ],
 "metadata": {
  "kernelspec": {
   "display_name": "Python 2",
   "language": "python",
   "name": "python2"
  },
  "language_info": {
   "codemirror_mode": {
    "name": "ipython",
    "version": 2
   },
   "file_extension": ".py",
   "mimetype": "text/x-python",
   "name": "python",
   "nbconvert_exporter": "python",
   "pygments_lexer": "ipython2",
   "version": "2.7.15"
  }
 },
 "nbformat": 4,
 "nbformat_minor": 2
}
